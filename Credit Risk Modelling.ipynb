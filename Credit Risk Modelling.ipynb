{
 "cells": [
  {
   "cell_type": "code",
   "execution_count": 7,
   "metadata": {},
   "outputs": [],
   "source": [
    "# import necessary libraries\n",
    "import pandas as pd\n",
    "import matplotlib.pyplot as plt\n",
    "import numpy as np\n",
    "import seaborn as sns\n",
    "\n",
    "from sklearn.preprocessing import LabelEncoder\n",
    "from sklearn.preprocessing import StandardScaler\n",
    "from sklearn.model_selection import train_test_split\n",
    "\n",
    "import xgboost as xgb\n",
    "import lightgbm as lgb\n",
    "from sklearn.svm import SVC\n",
    "from sklearn.ensemble import BaggingClassifier\n",
    "from sklearn.tree import DecisionTreeClassifier\n",
    "from sklearn.ensemble import RandomForestClassifier, ExtraTreesClassifier\n",
    "from sklearn.model_selection import RandomizedSearchCV,GridSearchCV\n",
    "from sklearn.model_selection import KFold\n",
    "from datetime import datetime\n",
    "import warnings"
   ]
  },
  {
   "cell_type": "code",
   "execution_count": 13,
   "metadata": {},
   "outputs": [
    {
     "data": {
      "application/vnd.microsoft.datawrangler.viewer.v0+json": {
       "columns": [
        {
         "name": "index",
         "rawType": "int64",
         "type": "integer"
        },
        {
         "name": "age",
         "rawType": "int64",
         "type": "integer"
        },
        {
         "name": "gender",
         "rawType": "object",
         "type": "string"
        },
        {
         "name": "education",
         "rawType": "object",
         "type": "string"
        },
        {
         "name": "occupation",
         "rawType": "object",
         "type": "string"
        },
        {
         "name": "organization_type",
         "rawType": "object",
         "type": "unknown"
        },
        {
         "name": "seniority",
         "rawType": "object",
         "type": "unknown"
        },
        {
         "name": "annual_income",
         "rawType": "int64",
         "type": "integer"
        },
        {
         "name": "disposable_income",
         "rawType": "int64",
         "type": "integer"
        },
        {
         "name": "house_type",
         "rawType": "object",
         "type": "string"
        },
        {
         "name": "vehicle_type",
         "rawType": "object",
         "type": "unknown"
        },
        {
         "name": "marital_status",
         "rawType": "object",
         "type": "string"
        },
        {
         "name": "no_card",
         "rawType": "int64",
         "type": "integer"
        },
        {
         "name": "default",
         "rawType": "int64",
         "type": "integer"
        }
       ],
       "ref": "067ad1b4-df99-4903-92af-66563dfa66bd",
       "rows": [
        [
         "0",
         "19",
         "Male",
         "Graduate",
         "Professional",
         null,
         null,
         "186319",
         "21625",
         "Family",
         null,
         "Married",
         "0",
         "1"
        ],
        [
         "1",
         "18",
         "Male",
         "Under Graduate",
         "Professional",
         null,
         null,
         "277022",
         "20442",
         "Rented",
         null,
         "Married",
         "0",
         "1"
        ],
        [
         "2",
         "29",
         "Male",
         "Under Graduate",
         "Salaried",
         null,
         "Entry",
         "348676",
         "24404",
         "Rented",
         null,
         "Married",
         "1",
         "1"
        ],
        [
         "3",
         "18",
         "Male",
         "Graduate",
         "Student",
         null,
         null,
         "165041",
         "2533",
         "Rented",
         null,
         "Married",
         "0",
         "1"
        ],
        [
         "4",
         "26",
         "Male",
         "Post Graduate",
         "Salaried",
         null,
         "Mid-level 1",
         "348745",
         "19321",
         "Rented",
         null,
         "Married",
         "1",
         "1"
        ]
       ],
       "shape": {
        "columns": 13,
        "rows": 5
       }
      },
      "text/html": [
       "<div>\n",
       "<style scoped>\n",
       "    .dataframe tbody tr th:only-of-type {\n",
       "        vertical-align: middle;\n",
       "    }\n",
       "\n",
       "    .dataframe tbody tr th {\n",
       "        vertical-align: top;\n",
       "    }\n",
       "\n",
       "    .dataframe thead th {\n",
       "        text-align: right;\n",
       "    }\n",
       "</style>\n",
       "<table border=\"1\" class=\"dataframe\">\n",
       "  <thead>\n",
       "    <tr style=\"text-align: right;\">\n",
       "      <th></th>\n",
       "      <th>age</th>\n",
       "      <th>gender</th>\n",
       "      <th>education</th>\n",
       "      <th>occupation</th>\n",
       "      <th>organization_type</th>\n",
       "      <th>seniority</th>\n",
       "      <th>annual_income</th>\n",
       "      <th>disposable_income</th>\n",
       "      <th>house_type</th>\n",
       "      <th>vehicle_type</th>\n",
       "      <th>marital_status</th>\n",
       "      <th>no_card</th>\n",
       "      <th>default</th>\n",
       "    </tr>\n",
       "  </thead>\n",
       "  <tbody>\n",
       "    <tr>\n",
       "      <th>0</th>\n",
       "      <td>19</td>\n",
       "      <td>Male</td>\n",
       "      <td>Graduate</td>\n",
       "      <td>Professional</td>\n",
       "      <td>NaN</td>\n",
       "      <td>NaN</td>\n",
       "      <td>186319</td>\n",
       "      <td>21625</td>\n",
       "      <td>Family</td>\n",
       "      <td>NaN</td>\n",
       "      <td>Married</td>\n",
       "      <td>0</td>\n",
       "      <td>1</td>\n",
       "    </tr>\n",
       "    <tr>\n",
       "      <th>1</th>\n",
       "      <td>18</td>\n",
       "      <td>Male</td>\n",
       "      <td>Under Graduate</td>\n",
       "      <td>Professional</td>\n",
       "      <td>NaN</td>\n",
       "      <td>NaN</td>\n",
       "      <td>277022</td>\n",
       "      <td>20442</td>\n",
       "      <td>Rented</td>\n",
       "      <td>NaN</td>\n",
       "      <td>Married</td>\n",
       "      <td>0</td>\n",
       "      <td>1</td>\n",
       "    </tr>\n",
       "    <tr>\n",
       "      <th>2</th>\n",
       "      <td>29</td>\n",
       "      <td>Male</td>\n",
       "      <td>Under Graduate</td>\n",
       "      <td>Salaried</td>\n",
       "      <td>NaN</td>\n",
       "      <td>Entry</td>\n",
       "      <td>348676</td>\n",
       "      <td>24404</td>\n",
       "      <td>Rented</td>\n",
       "      <td>NaN</td>\n",
       "      <td>Married</td>\n",
       "      <td>1</td>\n",
       "      <td>1</td>\n",
       "    </tr>\n",
       "    <tr>\n",
       "      <th>3</th>\n",
       "      <td>18</td>\n",
       "      <td>Male</td>\n",
       "      <td>Graduate</td>\n",
       "      <td>Student</td>\n",
       "      <td>NaN</td>\n",
       "      <td>NaN</td>\n",
       "      <td>165041</td>\n",
       "      <td>2533</td>\n",
       "      <td>Rented</td>\n",
       "      <td>NaN</td>\n",
       "      <td>Married</td>\n",
       "      <td>0</td>\n",
       "      <td>1</td>\n",
       "    </tr>\n",
       "    <tr>\n",
       "      <th>4</th>\n",
       "      <td>26</td>\n",
       "      <td>Male</td>\n",
       "      <td>Post Graduate</td>\n",
       "      <td>Salaried</td>\n",
       "      <td>NaN</td>\n",
       "      <td>Mid-level 1</td>\n",
       "      <td>348745</td>\n",
       "      <td>19321</td>\n",
       "      <td>Rented</td>\n",
       "      <td>NaN</td>\n",
       "      <td>Married</td>\n",
       "      <td>1</td>\n",
       "      <td>1</td>\n",
       "    </tr>\n",
       "  </tbody>\n",
       "</table>\n",
       "</div>"
      ],
      "text/plain": [
       "   age gender       education    occupation organization_type    seniority  \\\n",
       "0   19   Male        Graduate  Professional               NaN          NaN   \n",
       "1   18   Male  Under Graduate  Professional               NaN          NaN   \n",
       "2   29   Male  Under Graduate      Salaried               NaN        Entry   \n",
       "3   18   Male        Graduate       Student               NaN          NaN   \n",
       "4   26   Male   Post Graduate      Salaried               NaN  Mid-level 1   \n",
       "\n",
       "   annual_income  disposable_income house_type vehicle_type marital_status  \\\n",
       "0         186319              21625     Family          NaN        Married   \n",
       "1         277022              20442     Rented          NaN        Married   \n",
       "2         348676              24404     Rented          NaN        Married   \n",
       "3         165041               2533     Rented          NaN        Married   \n",
       "4         348745              19321     Rented          NaN        Married   \n",
       "\n",
       "   no_card  default  \n",
       "0        0        1  \n",
       "1        0        1  \n",
       "2        1        1  \n",
       "3        0        1  \n",
       "4        1        1  "
      ]
     },
     "execution_count": 13,
     "metadata": {},
     "output_type": "execute_result"
    }
   ],
   "source": [
    "# Load the dataset\n",
    "credit_df=pd.read_csv(\"Credit Data.csv\")\n",
    "credit_df.head()"
   ]
  },
  {
   "cell_type": "code",
   "execution_count": 10,
   "metadata": {},
   "outputs": [
    {
     "data": {
      "text/plain": [
       "(50636, 13)"
      ]
     },
     "execution_count": 10,
     "metadata": {},
     "output_type": "execute_result"
    }
   ],
   "source": [
    "credit_df.shape"
   ]
  },
  {
   "cell_type": "code",
   "execution_count": null,
   "metadata": {},
   "outputs": [
    {
     "data": {
      "application/vnd.microsoft.datawrangler.viewer.v0+json": {
       "columns": [
        {
         "name": "index",
         "rawType": "object",
         "type": "string"
        },
        {
         "name": "0",
         "rawType": "int64",
         "type": "integer"
        }
       ],
       "ref": "b584a99a-1f48-4c14-a2ab-5f51f6a9bf00",
       "rows": [
        [
         "age",
         "0"
        ],
        [
         "gender",
         "0"
        ],
        [
         "education",
         "0"
        ],
        [
         "occupation",
         "0"
        ],
        [
         "organization_type",
         "35884"
        ],
        [
         "seniority",
         "20898"
        ],
        [
         "annual_income",
         "0"
        ],
        [
         "disposable_income",
         "0"
        ],
        [
         "house_type",
         "0"
        ],
        [
         "vehicle_type",
         "33301"
        ],
        [
         "marital_status",
         "0"
        ],
        [
         "no_card",
         "0"
        ],
        [
         "default",
         "0"
        ]
       ],
       "shape": {
        "columns": 1,
        "rows": 13
       }
      },
      "text/plain": [
       "age                      0\n",
       "gender                   0\n",
       "education                0\n",
       "occupation               0\n",
       "organization_type    35884\n",
       "seniority            20898\n",
       "annual_income            0\n",
       "disposable_income        0\n",
       "house_type               0\n",
       "vehicle_type         33301\n",
       "marital_status           0\n",
       "no_card                  0\n",
       "default                  0\n",
       "dtype: int64"
      ]
     },
     "execution_count": 21,
     "metadata": {},
     "output_type": "execute_result"
    }
   ],
   "source": [
    "# check for null values\n",
    "credit_df.isnull().sum()"
   ]
  },
  {
   "cell_type": "code",
   "execution_count": 23,
   "metadata": {},
   "outputs": [
    {
     "data": {
      "application/vnd.microsoft.datawrangler.viewer.v0+json": {
       "columns": [
        {
         "name": "index",
         "rawType": "object",
         "type": "string"
        },
        {
         "name": "age",
         "rawType": "float64",
         "type": "float"
        },
        {
         "name": "annual_income",
         "rawType": "float64",
         "type": "float"
        },
        {
         "name": "disposable_income",
         "rawType": "float64",
         "type": "float"
        },
        {
         "name": "no_card",
         "rawType": "float64",
         "type": "float"
        },
        {
         "name": "default",
         "rawType": "float64",
         "type": "float"
        }
       ],
       "ref": "cde8a751-a160-4012-8c73-de5b3273f806",
       "rows": [
        [
         "count",
         "50636.0",
         "50636.0",
         "50636.0",
         "50636.0",
         "50636.0"
        ],
        [
         "mean",
         "29.527411327908997",
         "277243.9898886168",
         "18325.788569397268",
         "0.5098151512757721",
         "0.15842483608499883"
        ],
        [
         "std",
         "8.816531767646845",
         "153838.97375513375",
         "12677.864843670632",
         "0.6698831213454548",
         "0.3651424933972794"
        ],
        [
         "min",
         "18.0",
         "50000.0",
         "1000.0",
         "0.0",
         "0.0"
        ],
        [
         "25%",
         "25.0",
         "154052.25",
         "8317.75",
         "0.0",
         "0.0"
        ],
        [
         "50%",
         "27.0",
         "258860.5",
         "15770.0",
         "0.0",
         "0.0"
        ],
        [
         "75%",
         "30.0",
         "385071.5",
         "24135.0",
         "1.0",
         "0.0"
        ],
        [
         "max",
         "64.0",
         "999844.0",
         "49999.0",
         "2.0",
         "1.0"
        ]
       ],
       "shape": {
        "columns": 5,
        "rows": 8
       }
      },
      "text/html": [
       "<div>\n",
       "<style scoped>\n",
       "    .dataframe tbody tr th:only-of-type {\n",
       "        vertical-align: middle;\n",
       "    }\n",
       "\n",
       "    .dataframe tbody tr th {\n",
       "        vertical-align: top;\n",
       "    }\n",
       "\n",
       "    .dataframe thead th {\n",
       "        text-align: right;\n",
       "    }\n",
       "</style>\n",
       "<table border=\"1\" class=\"dataframe\">\n",
       "  <thead>\n",
       "    <tr style=\"text-align: right;\">\n",
       "      <th></th>\n",
       "      <th>age</th>\n",
       "      <th>annual_income</th>\n",
       "      <th>disposable_income</th>\n",
       "      <th>no_card</th>\n",
       "      <th>default</th>\n",
       "    </tr>\n",
       "  </thead>\n",
       "  <tbody>\n",
       "    <tr>\n",
       "      <th>count</th>\n",
       "      <td>50636.000000</td>\n",
       "      <td>50636.000000</td>\n",
       "      <td>50636.000000</td>\n",
       "      <td>50636.000000</td>\n",
       "      <td>50636.000000</td>\n",
       "    </tr>\n",
       "    <tr>\n",
       "      <th>mean</th>\n",
       "      <td>29.527411</td>\n",
       "      <td>277243.989889</td>\n",
       "      <td>18325.788569</td>\n",
       "      <td>0.509815</td>\n",
       "      <td>0.158425</td>\n",
       "    </tr>\n",
       "    <tr>\n",
       "      <th>std</th>\n",
       "      <td>8.816532</td>\n",
       "      <td>153838.973755</td>\n",
       "      <td>12677.864844</td>\n",
       "      <td>0.669883</td>\n",
       "      <td>0.365142</td>\n",
       "    </tr>\n",
       "    <tr>\n",
       "      <th>min</th>\n",
       "      <td>18.000000</td>\n",
       "      <td>50000.000000</td>\n",
       "      <td>1000.000000</td>\n",
       "      <td>0.000000</td>\n",
       "      <td>0.000000</td>\n",
       "    </tr>\n",
       "    <tr>\n",
       "      <th>25%</th>\n",
       "      <td>25.000000</td>\n",
       "      <td>154052.250000</td>\n",
       "      <td>8317.750000</td>\n",
       "      <td>0.000000</td>\n",
       "      <td>0.000000</td>\n",
       "    </tr>\n",
       "    <tr>\n",
       "      <th>50%</th>\n",
       "      <td>27.000000</td>\n",
       "      <td>258860.500000</td>\n",
       "      <td>15770.000000</td>\n",
       "      <td>0.000000</td>\n",
       "      <td>0.000000</td>\n",
       "    </tr>\n",
       "    <tr>\n",
       "      <th>75%</th>\n",
       "      <td>30.000000</td>\n",
       "      <td>385071.500000</td>\n",
       "      <td>24135.000000</td>\n",
       "      <td>1.000000</td>\n",
       "      <td>0.000000</td>\n",
       "    </tr>\n",
       "    <tr>\n",
       "      <th>max</th>\n",
       "      <td>64.000000</td>\n",
       "      <td>999844.000000</td>\n",
       "      <td>49999.000000</td>\n",
       "      <td>2.000000</td>\n",
       "      <td>1.000000</td>\n",
       "    </tr>\n",
       "  </tbody>\n",
       "</table>\n",
       "</div>"
      ],
      "text/plain": [
       "                age  annual_income  disposable_income       no_card  \\\n",
       "count  50636.000000   50636.000000       50636.000000  50636.000000   \n",
       "mean      29.527411  277243.989889       18325.788569      0.509815   \n",
       "std        8.816532  153838.973755       12677.864844      0.669883   \n",
       "min       18.000000   50000.000000        1000.000000      0.000000   \n",
       "25%       25.000000  154052.250000        8317.750000      0.000000   \n",
       "50%       27.000000  258860.500000       15770.000000      0.000000   \n",
       "75%       30.000000  385071.500000       24135.000000      1.000000   \n",
       "max       64.000000  999844.000000       49999.000000      2.000000   \n",
       "\n",
       "            default  \n",
       "count  50636.000000  \n",
       "mean       0.158425  \n",
       "std        0.365142  \n",
       "min        0.000000  \n",
       "25%        0.000000  \n",
       "50%        0.000000  \n",
       "75%        0.000000  \n",
       "max        1.000000  "
      ]
     },
     "execution_count": 23,
     "metadata": {},
     "output_type": "execute_result"
    }
   ],
   "source": [
    "# see the statistical analysis of the dataset\n",
    "credit_df.describe()"
   ]
  },
  {
   "cell_type": "code",
   "execution_count": 24,
   "metadata": {},
   "outputs": [
    {
     "data": {
      "application/vnd.microsoft.datawrangler.viewer.v0+json": {
       "columns": [
        {
         "name": "index",
         "rawType": "int64",
         "type": "integer"
        },
        {
         "name": "gender",
         "rawType": "object",
         "type": "string"
        },
        {
         "name": "education",
         "rawType": "object",
         "type": "string"
        },
        {
         "name": "occupation",
         "rawType": "object",
         "type": "string"
        },
        {
         "name": "organization_type",
         "rawType": "object",
         "type": "unknown"
        },
        {
         "name": "seniority",
         "rawType": "object",
         "type": "unknown"
        },
        {
         "name": "house_type",
         "rawType": "object",
         "type": "string"
        },
        {
         "name": "vehicle_type",
         "rawType": "object",
         "type": "unknown"
        },
        {
         "name": "marital_status",
         "rawType": "object",
         "type": "string"
        }
       ],
       "ref": "40f9fc37-8b08-4f0f-b783-00a40c7dcd56",
       "rows": [
        [
         "0",
         "Male",
         "Graduate",
         "Professional",
         null,
         null,
         "Family",
         null,
         "Married"
        ],
        [
         "1",
         "Male",
         "Under Graduate",
         "Professional",
         null,
         null,
         "Rented",
         null,
         "Married"
        ],
        [
         "2",
         "Male",
         "Under Graduate",
         "Salaried",
         null,
         "Entry",
         "Rented",
         null,
         "Married"
        ],
        [
         "3",
         "Male",
         "Graduate",
         "Student",
         null,
         null,
         "Rented",
         null,
         "Married"
        ],
        [
         "4",
         "Male",
         "Post Graduate",
         "Salaried",
         null,
         "Mid-level 1",
         "Rented",
         null,
         "Married"
        ]
       ],
       "shape": {
        "columns": 8,
        "rows": 5
       }
      },
      "text/html": [
       "<div>\n",
       "<style scoped>\n",
       "    .dataframe tbody tr th:only-of-type {\n",
       "        vertical-align: middle;\n",
       "    }\n",
       "\n",
       "    .dataframe tbody tr th {\n",
       "        vertical-align: top;\n",
       "    }\n",
       "\n",
       "    .dataframe thead th {\n",
       "        text-align: right;\n",
       "    }\n",
       "</style>\n",
       "<table border=\"1\" class=\"dataframe\">\n",
       "  <thead>\n",
       "    <tr style=\"text-align: right;\">\n",
       "      <th></th>\n",
       "      <th>gender</th>\n",
       "      <th>education</th>\n",
       "      <th>occupation</th>\n",
       "      <th>organization_type</th>\n",
       "      <th>seniority</th>\n",
       "      <th>house_type</th>\n",
       "      <th>vehicle_type</th>\n",
       "      <th>marital_status</th>\n",
       "    </tr>\n",
       "  </thead>\n",
       "  <tbody>\n",
       "    <tr>\n",
       "      <th>0</th>\n",
       "      <td>Male</td>\n",
       "      <td>Graduate</td>\n",
       "      <td>Professional</td>\n",
       "      <td>NaN</td>\n",
       "      <td>NaN</td>\n",
       "      <td>Family</td>\n",
       "      <td>NaN</td>\n",
       "      <td>Married</td>\n",
       "    </tr>\n",
       "    <tr>\n",
       "      <th>1</th>\n",
       "      <td>Male</td>\n",
       "      <td>Under Graduate</td>\n",
       "      <td>Professional</td>\n",
       "      <td>NaN</td>\n",
       "      <td>NaN</td>\n",
       "      <td>Rented</td>\n",
       "      <td>NaN</td>\n",
       "      <td>Married</td>\n",
       "    </tr>\n",
       "    <tr>\n",
       "      <th>2</th>\n",
       "      <td>Male</td>\n",
       "      <td>Under Graduate</td>\n",
       "      <td>Salaried</td>\n",
       "      <td>NaN</td>\n",
       "      <td>Entry</td>\n",
       "      <td>Rented</td>\n",
       "      <td>NaN</td>\n",
       "      <td>Married</td>\n",
       "    </tr>\n",
       "    <tr>\n",
       "      <th>3</th>\n",
       "      <td>Male</td>\n",
       "      <td>Graduate</td>\n",
       "      <td>Student</td>\n",
       "      <td>NaN</td>\n",
       "      <td>NaN</td>\n",
       "      <td>Rented</td>\n",
       "      <td>NaN</td>\n",
       "      <td>Married</td>\n",
       "    </tr>\n",
       "    <tr>\n",
       "      <th>4</th>\n",
       "      <td>Male</td>\n",
       "      <td>Post Graduate</td>\n",
       "      <td>Salaried</td>\n",
       "      <td>NaN</td>\n",
       "      <td>Mid-level 1</td>\n",
       "      <td>Rented</td>\n",
       "      <td>NaN</td>\n",
       "      <td>Married</td>\n",
       "    </tr>\n",
       "  </tbody>\n",
       "</table>\n",
       "</div>"
      ],
      "text/plain": [
       "  gender       education    occupation organization_type    seniority  \\\n",
       "0   Male        Graduate  Professional               NaN          NaN   \n",
       "1   Male  Under Graduate  Professional               NaN          NaN   \n",
       "2   Male  Under Graduate      Salaried               NaN        Entry   \n",
       "3   Male        Graduate       Student               NaN          NaN   \n",
       "4   Male   Post Graduate      Salaried               NaN  Mid-level 1   \n",
       "\n",
       "  house_type vehicle_type marital_status  \n",
       "0     Family          NaN        Married  \n",
       "1     Rented          NaN        Married  \n",
       "2     Rented          NaN        Married  \n",
       "3     Rented          NaN        Married  \n",
       "4     Rented          NaN        Married  "
      ]
     },
     "execution_count": 24,
     "metadata": {},
     "output_type": "execute_result"
    }
   ],
   "source": [
    "# Separate columns having categorical value\n",
    "obj_df = credit_df.select_dtypes(include=['object']).copy()\n",
    "obj_df.head()"
   ]
  },
  {
   "cell_type": "code",
   "execution_count": 25,
   "metadata": {},
   "outputs": [
    {
     "data": {
      "application/vnd.microsoft.datawrangler.viewer.v0+json": {
       "columns": [
        {
         "name": "no_card",
         "rawType": "int64",
         "type": "integer"
        },
        {
         "name": "count",
         "rawType": "int64",
         "type": "integer"
        }
       ],
       "ref": "3f270339-2cd5-4304-9c70-3413b014425b",
       "rows": [
        [
         "0",
         "29855"
        ],
        [
         "1",
         "15747"
        ],
        [
         "2",
         "5034"
        ]
       ],
       "shape": {
        "columns": 1,
        "rows": 3
       }
      },
      "text/plain": [
       "no_card\n",
       "0    29855\n",
       "1    15747\n",
       "2     5034\n",
       "Name: count, dtype: int64"
      ]
     },
     "execution_count": 25,
     "metadata": {},
     "output_type": "execute_result"
    }
   ],
   "source": [
    "# find unique values present in \"no_card\" column\n",
    "credit_df['no_card'].value_counts()"
   ]
  },
  {
   "cell_type": "code",
   "execution_count": 26,
   "metadata": {},
   "outputs": [],
   "source": [
    "# add column \"no_card\" to the dataframe \"obj_df\"\n",
    "obj_df['no_card']=credit_df['no_card']"
   ]
  },
  {
   "cell_type": "code",
   "execution_count": null,
   "metadata": {},
   "outputs": [],
   "source": []
  }
 ],
 "metadata": {
  "kernelspec": {
   "display_name": "Python 3",
   "language": "python",
   "name": "python3"
  },
  "language_info": {
   "codemirror_mode": {
    "name": "ipython",
    "version": 3
   },
   "file_extension": ".py",
   "mimetype": "text/x-python",
   "name": "python",
   "nbconvert_exporter": "python",
   "pygments_lexer": "ipython3",
   "version": "3.11.8"
  }
 },
 "nbformat": 4,
 "nbformat_minor": 2
}
